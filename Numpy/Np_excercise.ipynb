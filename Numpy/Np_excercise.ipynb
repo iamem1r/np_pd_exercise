{
 "cells": [
  {
   "cell_type": "markdown",
   "id": "55d196b5-886e-439d-af0c-9251abe9c6c1",
   "metadata": {},
   "source": [
    "<form action=\"/action_page.php\">\n",
    "  <fieldset>\n",
    "    <legend>About this notebook:</legend>\n",
    "    \n",
    "   <div class=\"card\">\n",
    "  <h5 class=\"card-header\">This notebook contains Numpy excercises</h5>\n",
    "  <div class=\"card-body\">\n",
    "    <a href=\"menus\" class=\"btn btn-primary\" style=\"color:white;\" >Go somewhere</a>\n",
    " </div>"
   ]
  },
  {
   "cell_type": "markdown",
   "id": "f7487a9f-f395-4a56-ad94-2b2b9142609c",
   "metadata": {},
   "source": [
    "<div class=\"alert alert-info\" role=\"alert\">\n",
    "  <b>First problem:</b><br>\n",
    "    Curve grades of Math exam with CURVE_CENTER = 16<br>\n",
    "    <b>hint:</b> make a random list or array of grades between 0 to 20\n",
    "</div>"
   ]
  },
  {
   "cell_type": "code",
   "execution_count": 1,
   "id": "5c1ffbaa-060b-4465-b004-7e8843b44b5b",
   "metadata": {},
   "outputs": [],
   "source": [
    "import numpy as np"
   ]
  },
  {
   "cell_type": "code",
   "execution_count": 31,
   "id": "5d688577-eaf7-43a0-9f29-0fe8622de097",
   "metadata": {},
   "outputs": [],
   "source": [
    "math_grades = np.random.randint(0, 21, 56)"
   ]
  },
  {
   "cell_type": "code",
   "execution_count": 32,
   "id": "78f56947-f5a5-4822-a7ce-4e9876a248ca",
   "metadata": {},
   "outputs": [],
   "source": [
    "def curve_grades(grades: np.ndarray, curve_center: [int, float]):\n",
    "    \n",
    "    average = grades.mean()\n",
    "    change = curve_center - average\n",
    "    \n",
    "    return np.clip((grades + change), a_min=0, a_max=20)  "
   ]
  },
  {
   "cell_type": "code",
   "execution_count": 36,
   "id": "f52dcff0-d4d7-4d5e-9385-83f78b148f3e",
   "metadata": {},
   "outputs": [
    {
     "data": {
      "text/plain": [
       "array([ 9, 19, 13, 14, 18,  1, 10,  6, 15,  9, 18, 13,  4,  9, 16,  9,  0,\n",
       "       16,  5, 10,  2,  2,  0, 14,  3,  7, 19, 16,  0,  6,  6, 20,  0, 16,\n",
       "       16, 15,  4,  7,  5,  4, 19, 18,  6,  6, 15,  2, 19,  1,  5,  9, 13,\n",
       "        0,  8,  6,  0, 18])"
      ]
     },
     "execution_count": 36,
     "metadata": {},
     "output_type": "execute_result"
    }
   ],
   "source": [
    "math_grades"
   ]
  },
  {
   "cell_type": "code",
   "execution_count": 33,
   "id": "4ecec01d-120d-4c36-9296-2ae0476be6c7",
   "metadata": {},
   "outputs": [
    {
     "data": {
      "text/plain": [
       "9.303571428571429"
      ]
     },
     "execution_count": 33,
     "metadata": {},
     "output_type": "execute_result"
    }
   ],
   "source": [
    "math_grades.mean()"
   ]
  },
  {
   "cell_type": "code",
   "execution_count": 37,
   "id": "49a56124-2c1f-41c9-ba62-cbbfcd770e98",
   "metadata": {},
   "outputs": [
    {
     "data": {
      "text/plain": [
       "array([16.69642857, 20.        , 20.        , 20.        , 20.        ,\n",
       "        8.69642857, 17.69642857, 13.69642857, 20.        , 16.69642857,\n",
       "       20.        , 20.        , 11.69642857, 16.69642857, 20.        ,\n",
       "       16.69642857,  7.69642857, 20.        , 12.69642857, 17.69642857,\n",
       "        9.69642857,  9.69642857,  7.69642857, 20.        , 10.69642857,\n",
       "       14.69642857, 20.        , 20.        ,  7.69642857, 13.69642857,\n",
       "       13.69642857, 20.        ,  7.69642857, 20.        , 20.        ,\n",
       "       20.        , 11.69642857, 14.69642857, 12.69642857, 11.69642857,\n",
       "       20.        , 20.        , 13.69642857, 13.69642857, 20.        ,\n",
       "        9.69642857, 20.        ,  8.69642857, 12.69642857, 16.69642857,\n",
       "       20.        ,  7.69642857, 15.69642857, 13.69642857,  7.69642857,\n",
       "       20.        ])"
      ]
     },
     "execution_count": 37,
     "metadata": {},
     "output_type": "execute_result"
    }
   ],
   "source": [
    "grades_after_curve = curve_grades(grades=math_grades, curve_center=17)\n",
    "grades_after_curve"
   ]
  },
  {
   "cell_type": "code",
   "execution_count": 35,
   "id": "b0d44cc4-cd17-4954-af72-f29e7408c2a7",
   "metadata": {},
   "outputs": [
    {
     "data": {
      "text/plain": [
       "15.404974489795917"
      ]
     },
     "execution_count": 35,
     "metadata": {},
     "output_type": "execute_result"
    }
   ],
   "source": [
    "grades_after_curve.mean()"
   ]
  },
  {
   "cell_type": "code",
   "execution_count": null,
   "id": "d81921a2-5ddd-49f6-9cfb-24559e9f4684",
   "metadata": {},
   "outputs": [],
   "source": []
  }
 ],
 "metadata": {
  "kernelspec": {
   "display_name": "Python 3 (ipykernel)",
   "language": "python",
   "name": "python3"
  },
  "language_info": {
   "codemirror_mode": {
    "name": "ipython",
    "version": 3
   },
   "file_extension": ".py",
   "mimetype": "text/x-python",
   "name": "python",
   "nbconvert_exporter": "python",
   "pygments_lexer": "ipython3",
   "version": "3.8.12"
  }
 },
 "nbformat": 4,
 "nbformat_minor": 5
}
