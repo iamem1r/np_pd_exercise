{
 "cells": [
  {
   "cell_type": "markdown",
   "id": "55d196b5-886e-439d-af0c-9251abe9c6c1",
   "metadata": {},
   "source": [
    "<form action=\"/action_page.php\">\n",
    "  <fieldset>\n",
    "    <legend>About this notebook:</legend>\n",
    "    \n",
    "   <div class=\"card\">\n",
    "  <h5 class=\"card-header\">This notebook contains Numpy excercises</h5>\n",
    "  <div class=\"card-body\">\n",
    "    <a href=\"menus\" class=\"btn btn-primary\" style=\"color:white;\" >Go somewhere</a>\n",
    " </div>"
   ]
  },
  {
   "cell_type": "markdown",
   "id": "f7487a9f-f395-4a56-ad94-2b2b9142609c",
   "metadata": {},
   "source": [
    "<div class=\"alert alert-info\" role=\"alert\">\n",
    "  <b>First problem:</b><br>\n",
    "    Curve grades of Math exam with your desired CURVE_CENTER<br>\n",
    "    <b>hint:</b> make a random list or array of grades between 0 to 20\n",
    "</div>"
   ]
  },
  {
   "cell_type": "code",
   "execution_count": 38,
   "id": "5c1ffbaa-060b-4465-b004-7e8843b44b5b",
   "metadata": {},
   "outputs": [],
   "source": [
    "import numpy as np"
   ]
  },
  {
   "cell_type": "code",
   "execution_count": 57,
   "id": "5d688577-eaf7-43a0-9f29-0fe8622de097",
   "metadata": {},
   "outputs": [],
   "source": [
    "# create a random numpy array with 56 elements between 0 and 20\n",
    "math_grades = np.random.randint(0, 21, 56)"
   ]
  },
  {
   "cell_type": "code",
   "execution_count": 58,
   "id": "78f56947-f5a5-4822-a7ce-4e9876a248ca",
   "metadata": {},
   "outputs": [],
   "source": [
    "def curve_grades(grades: np.ndarray, curve_center: [int, float]):\n",
    "    \"\"\"\n",
    "    curve given grades, with given curve center\n",
    "    \n",
    "    :param: grades: a numpy array of grades\n",
    "    :param: curve_center: an int or float number that will curve grades with it.\n",
    "    :return: an numpy array\n",
    "    \"\"\"\n",
    "    \n",
    "    average = grades.mean()\n",
    "    change = curve_center - average\n",
    "    \n",
    "    if change < 0:\n",
    "        return grades\n",
    "    else:\n",
    "        return np.clip((grades + change), a_min=0, a_max=20)"
   ]
  },
  {
   "cell_type": "code",
   "execution_count": 59,
   "id": "4ecec01d-120d-4c36-9296-2ae0476be6c7",
   "metadata": {},
   "outputs": [
    {
     "data": {
      "text/plain": [
       "10.982142857142858"
      ]
     },
     "execution_count": 59,
     "metadata": {},
     "output_type": "execute_result"
    }
   ],
   "source": [
    "math_grades.mean()"
   ]
  },
  {
   "cell_type": "code",
   "execution_count": 60,
   "id": "49a56124-2c1f-41c9-ba62-cbbfcd770e98",
   "metadata": {},
   "outputs": [
    {
     "data": {
      "text/plain": [
       "array([20.        ,  7.01785714, 19.01785714, 13.01785714, 14.01785714,\n",
       "       11.01785714, 10.01785714, 13.01785714, 10.01785714,  9.01785714,\n",
       "        4.01785714, 14.01785714, 15.01785714,  5.01785714, 20.        ,\n",
       "       20.        ,  5.01785714,  5.01785714,  7.01785714, 14.01785714,\n",
       "       19.01785714, 20.        , 20.        , 20.        , 20.        ,\n",
       "       20.        , 20.        , 20.        , 20.        , 20.        ,\n",
       "        7.01785714, 12.01785714, 18.01785714, 20.        , 11.01785714,\n",
       "       12.01785714, 10.01785714, 18.01785714, 17.01785714, 19.01785714,\n",
       "       17.01785714, 11.01785714, 17.01785714, 11.01785714, 20.        ,\n",
       "       13.01785714, 14.01785714, 20.        , 12.01785714,  8.01785714,\n",
       "       13.01785714, 19.01785714, 20.        , 11.01785714, 19.01785714,\n",
       "        7.01785714])"
      ]
     },
     "execution_count": 60,
     "metadata": {},
     "output_type": "execute_result"
    }
   ],
   "source": [
    "grades_after_curve = curve_grades(grades=math_grades, curve_center=15)\n",
    "grades_after_curve"
   ]
  },
  {
   "cell_type": "code",
   "execution_count": 61,
   "id": "b0d44cc4-cd17-4954-af72-f29e7408c2a7",
   "metadata": {},
   "outputs": [
    {
     "data": {
      "text/plain": [
       "14.47704081632653"
      ]
     },
     "execution_count": 61,
     "metadata": {},
     "output_type": "execute_result"
    }
   ],
   "source": [
    "grades_after_curve.mean()"
   ]
  },
  {
   "cell_type": "code",
   "execution_count": null,
   "id": "d81921a2-5ddd-49f6-9cfb-24559e9f4684",
   "metadata": {},
   "outputs": [],
   "source": []
  }
 ],
 "metadata": {
  "kernelspec": {
   "display_name": "Python 3 (ipykernel)",
   "language": "python",
   "name": "python3"
  },
  "language_info": {
   "codemirror_mode": {
    "name": "ipython",
    "version": 3
   },
   "file_extension": ".py",
   "mimetype": "text/x-python",
   "name": "python",
   "nbconvert_exporter": "python",
   "pygments_lexer": "ipython3",
   "version": "3.8.12"
  }
 },
 "nbformat": 4,
 "nbformat_minor": 5
}
