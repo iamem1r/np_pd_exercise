{
 "cells": [
  {
   "cell_type": "markdown",
   "id": "55d196b5-886e-439d-af0c-9251abe9c6c1",
   "metadata": {},
   "source": [
    "<form action=\"/action_page.php\">\n",
    "  <fieldset>\n",
    "    <legend>About this notebook:</legend>\n",
    "    \n",
    "   <div class=\"card\">\n",
    "  <h5 class=\"card-header\">This notebook contains Numpy excercises</h5>\n",
    "  <div class=\"card-body\">\n",
    "    <a href=\"menus\" class=\"btn btn-primary\" style=\"color:white;\" >Go somewhere</a>\n",
    " </div>"
   ]
  },
  {
   "cell_type": "code",
   "execution_count": 4,
   "id": "9f72174a-75ac-450e-a01f-4c1b1e49d622",
   "metadata": {},
   "outputs": [],
   "source": [
    "import numpy as np"
   ]
  },
  {
   "cell_type": "markdown",
   "id": "571bd9c3-5d1e-4f20-bc70-852c2a268c10",
   "metadata": {},
   "source": [
    "<div class=\"alert alert-info\" role=\"alert\">\n",
    "  <b>Problem 1:</b><br>\n",
    "    Create a 2-dimensional array of size 3 x 4 named x, composed of 4-byte integer elements<br>\n",
    "</div>"
   ]
  },
  {
   "cell_type": "code",
   "execution_count": 24,
   "id": "0cb047fd-2f86-4f05-bcd4-aac360af9ffe",
   "metadata": {},
   "outputs": [],
   "source": [
    "x = np.array([[1, 2, 3, 4], [5, 6, 7, 8], [9, 10, 11, 12]], dtype='int32')"
   ]
  },
  {
   "cell_type": "markdown",
   "id": "2d69cfbb-0e9d-45ee-ab0f-8db668c749fc",
   "metadata": {},
   "source": [
    "| np.int8 | 1 byte | -128 to 127 |\n",
    "\n",
    "| np.int16 | 2 byte | -32768 to 32767 |\n",
    "\n",
    "| np.int32 | 4 byte | -2147483648 to 2147483647 |\n",
    "\n",
    "| np.int64 | 8 byte | -9223372036854775808 to 9223372036854775807 |"
   ]
  },
  {
   "cell_type": "markdown",
   "id": "0394099a-42bd-478e-8396-e8aa6fc3b094",
   "metadata": {},
   "source": [
    "<div class=\"alert alert-info\" role=\"alert\">\n",
    "  <b>Problem 2:</b><br>\n",
    "    Store the data type of object a in variable a_data_type\n",
    "<br>\n",
    "    a = np.array([1, 2, 3])\n",
    "</div>"
   ]
  },
  {
   "cell_type": "code",
   "execution_count": 27,
   "id": "6772e5c7-689a-4c19-9010-8e8ba5897372",
   "metadata": {},
   "outputs": [],
   "source": [
    "a = np.array([1, 2, 3])"
   ]
  },
  {
   "cell_type": "code",
   "execution_count": 28,
   "id": "06bfde61-5d54-4c83-9e91-1e7d6c4ade1c",
   "metadata": {},
   "outputs": [],
   "source": [
    "a_data_type = a.dtype"
   ]
  },
  {
   "cell_type": "code",
   "execution_count": 29,
   "id": "efc8ea74-37de-44d0-bec7-a64c96213ca7",
   "metadata": {},
   "outputs": [
    {
     "data": {
      "text/plain": [
       "dtype('int64')"
      ]
     },
     "execution_count": 29,
     "metadata": {},
     "output_type": "execute_result"
    }
   ],
   "source": [
    "a_data_type"
   ]
  },
  {
   "cell_type": "markdown",
   "id": "7e0441c1-6566-42e4-84da-694997bdd421",
   "metadata": {},
   "source": [
    "<div class=\"alert alert-info\" role=\"alert\">\n",
    "  <b>Problem 3:</b><br>\n",
    "    Store the type of object a[0] in variable a0_type\n",
    "<br>\n",
    "    a = np.array([1, 2, 3])\n",
    "\n",
    "</div>"
   ]
  },
  {
   "cell_type": "code",
   "execution_count": 32,
   "id": "91017250-8c4a-4023-bbd8-9a36a3afcc8c",
   "metadata": {},
   "outputs": [],
   "source": [
    "a = np.array([1, 2, 3])"
   ]
  },
  {
   "cell_type": "code",
   "execution_count": 33,
   "id": "70207da8-49ea-40c3-928a-b56c421e8017",
   "metadata": {},
   "outputs": [],
   "source": [
    "a0_type = type(a[0])"
   ]
  },
  {
   "cell_type": "code",
   "execution_count": 34,
   "id": "66a96551-0dc9-4d22-af7a-bcc4ab30deee",
   "metadata": {},
   "outputs": [
    {
     "data": {
      "text/plain": [
       "numpy.int64"
      ]
     },
     "execution_count": 34,
     "metadata": {},
     "output_type": "execute_result"
    }
   ],
   "source": [
    "a0_type"
   ]
  },
  {
   "cell_type": "markdown",
   "id": "c0039c00-10b0-4726-8257-d05db56cbe34",
   "metadata": {},
   "source": [
    "<div class=\"alert alert-info\" role=\"alert\">\n",
    "  <b>Problem 4:</b><br>\n",
    "    Store the type of object a in variable a_type\n",
    "<br>\n",
    "    a = np.array([1, 2, 3])\n",
    "\n",
    "    \n",
    "</div>"
   ]
  },
  {
   "cell_type": "code",
   "execution_count": 35,
   "id": "16311a34-6fa0-4c2d-b767-2e2603d8216d",
   "metadata": {},
   "outputs": [],
   "source": [
    "a = np.array([1, 2, 3])"
   ]
  },
  {
   "cell_type": "code",
   "execution_count": 37,
   "id": "6bf98875-173a-4bf2-b931-420cb36985f4",
   "metadata": {},
   "outputs": [],
   "source": [
    "a_type = type(a)"
   ]
  },
  {
   "cell_type": "code",
   "execution_count": 38,
   "id": "6570325a-9cc7-4e96-818e-338ecc8a6b31",
   "metadata": {},
   "outputs": [
    {
     "data": {
      "text/plain": [
       "numpy.ndarray"
      ]
     },
     "execution_count": 38,
     "metadata": {},
     "output_type": "execute_result"
    }
   ],
   "source": [
    "a_type"
   ]
  },
  {
   "cell_type": "markdown",
   "id": "64c96bb0-db00-4833-847e-a734fe331fcf",
   "metadata": {},
   "source": [
    "<div class=\"alert alert-info\" role=\"alert\">\n",
    "  <b>Problem 5:</b><br>\n",
    "    Using Numpy with one line of code, create an array similar to the one below and store it in the a16  variable.\n",
    "<br>\n",
    "<br>\n",
    "    array([[-inf,  nan,  inf],\n",
    "       [-inf,  nan,  inf],\n",
    "       [-inf,  nan,  inf],\n",
    "       [-inf,  nan,  inf],\n",
    "       [-inf,  nan,  inf],\n",
    "       [-inf,  nan,  inf]])\n",
    "\n",
    "</div>"
   ]
  },
  {
   "cell_type": "code",
   "execution_count": 45,
   "id": "2df6f34d-5ab1-4478-b85b-d4da94f5dc7f",
   "metadata": {},
   "outputs": [],
   "source": [
    "a16 = np.full((6, 3), [- np.inf, np.nan, np.inf])"
   ]
  },
  {
   "cell_type": "code",
   "execution_count": 46,
   "id": "34d9c9d7-aa7f-46f2-a434-5839c8c259ac",
   "metadata": {},
   "outputs": [
    {
     "data": {
      "text/plain": [
       "array([[-inf,  nan,  inf],\n",
       "       [-inf,  nan,  inf],\n",
       "       [-inf,  nan,  inf],\n",
       "       [-inf,  nan,  inf],\n",
       "       [-inf,  nan,  inf],\n",
       "       [-inf,  nan,  inf]])"
      ]
     },
     "execution_count": 46,
     "metadata": {},
     "output_type": "execute_result"
    }
   ],
   "source": [
    "a16"
   ]
  },
  {
   "cell_type": "markdown",
   "id": "eeb573a7-4bf2-4945-84b9-a920698c6b5a",
   "metadata": {},
   "source": [
    "<div class=\"alert alert-info\" role=\"alert\">\n",
    "  <b>Problem 6:</b><br>\n",
    "    Create a 8x3 array with all its elements equal to the \"Pytopia\"  and then store it in the a15  variable.\n",
    "\n",
    "<br>\n",
    "</div>"
   ]
  },
  {
   "cell_type": "code",
   "execution_count": 48,
   "id": "9418a0b7-37f6-4a3b-bde1-68784142b42c",
   "metadata": {},
   "outputs": [],
   "source": [
    "a15 = np.full([8, 3], 'pytopia')"
   ]
  },
  {
   "cell_type": "code",
   "execution_count": 49,
   "id": "c637c269-f95f-4400-99f7-06d83a220d8c",
   "metadata": {},
   "outputs": [
    {
     "data": {
      "text/plain": [
       "array([['pytopia', 'pytopia', 'pytopia'],\n",
       "       ['pytopia', 'pytopia', 'pytopia'],\n",
       "       ['pytopia', 'pytopia', 'pytopia'],\n",
       "       ['pytopia', 'pytopia', 'pytopia'],\n",
       "       ['pytopia', 'pytopia', 'pytopia'],\n",
       "       ['pytopia', 'pytopia', 'pytopia'],\n",
       "       ['pytopia', 'pytopia', 'pytopia'],\n",
       "       ['pytopia', 'pytopia', 'pytopia']], dtype='<U7')"
      ]
     },
     "execution_count": 49,
     "metadata": {},
     "output_type": "execute_result"
    }
   ],
   "source": [
    "a15"
   ]
  },
  {
   "cell_type": "markdown",
   "id": "15af1770-5a36-4afe-8626-7c8b2145dd02",
   "metadata": {},
   "source": [
    "<div class=\"alert alert-info\" role=\"alert\">\n",
    "  <b>Problem 7:</b><br>\n",
    "    Create a 6x4 array with empty elements and store it in variable a14 .\n",
    "<br>\n",
    "    <b>Hint</b> use np.empty()\n",
    "</div>"
   ]
  },
  {
   "cell_type": "code",
   "execution_count": 10,
   "id": "8b0b4ee3-4149-458d-9681-a2c9b5a91afe",
   "metadata": {},
   "outputs": [],
   "source": [
    "a14 = np.empty(shape=(6, 4))"
   ]
  },
  {
   "cell_type": "code",
   "execution_count": 11,
   "id": "5aed949c-cb81-4d62-99be-90c3f6dba63f",
   "metadata": {},
   "outputs": [
    {
     "data": {
      "text/plain": [
       "array([[0., 0., 0., 0.],\n",
       "       [0., 0., 0., 0.],\n",
       "       [0., 0., 0., 0.],\n",
       "       [0., 0., 0., 0.],\n",
       "       [0., 0., 0., 0.],\n",
       "       [0., 0., 0., 0.]])"
      ]
     },
     "execution_count": 11,
     "metadata": {},
     "output_type": "execute_result"
    }
   ],
   "source": [
    "a14"
   ]
  },
  {
   "cell_type": "markdown",
   "id": "029e4620-e680-456d-abbb-18ff4fc356c0",
   "metadata": {},
   "source": [
    "<div class=\"alert alert-info\" role=\"alert\">\n",
    "  <b>Problem 8:</b><br>\n",
    "    Create a 6x4 array with all random elements and store it in variable a13.\n",
    "<br>\n",
    "</div>"
   ]
  },
  {
   "cell_type": "code",
   "execution_count": 29,
   "id": "4ccbc3ac-e42c-49a7-aa5c-8e5d650b8c7e",
   "metadata": {},
   "outputs": [],
   "source": [
    "a13 = np.random.random((6, 4))"
   ]
  },
  {
   "cell_type": "code",
   "execution_count": 30,
   "id": "04edd3dd-d59a-40e2-85a4-06ebe940502b",
   "metadata": {},
   "outputs": [
    {
     "data": {
      "text/plain": [
       "array([[0.85010949, 0.20841951, 0.61611204, 0.17196578],\n",
       "       [0.76944293, 0.77998982, 0.72899548, 0.70705575],\n",
       "       [0.69421573, 0.89946497, 0.22721601, 0.22881555],\n",
       "       [0.04915015, 0.62418343, 0.89517162, 0.53945537],\n",
       "       [0.59795213, 0.95564648, 0.27958797, 0.60930265],\n",
       "       [0.97383257, 0.94251958, 0.35136693, 0.26910972]])"
      ]
     },
     "execution_count": 30,
     "metadata": {},
     "output_type": "execute_result"
    }
   ],
   "source": [
    "a13"
   ]
  },
  {
   "cell_type": "code",
   "execution_count": 31,
   "id": "b83592ab-2be1-44aa-bce8-ab4470e34741",
   "metadata": {},
   "outputs": [
    {
     "data": {
      "text/plain": [
       "(6, 4)"
      ]
     },
     "execution_count": 31,
     "metadata": {},
     "output_type": "execute_result"
    }
   ],
   "source": [
    "a13.shape"
   ]
  },
  {
   "cell_type": "markdown",
   "id": "eea1577b-b2b8-4b60-a314-3a89d2258532",
   "metadata": {},
   "source": [
    "<div class=\"alert alert-info\" role=\"alert\">\n",
    "  <b>Problem 9:</b><br>\n",
    "    Create a 6x4 array with all one elements and store it in variable a12.\n",
    "<br>\n",
    "</div>"
   ]
  },
  {
   "cell_type": "code",
   "execution_count": 33,
   "id": "9cd40ba7-e50c-43f2-ac06-789ace61424a",
   "metadata": {},
   "outputs": [],
   "source": [
    "a12 = np.ones((6,4))"
   ]
  },
  {
   "cell_type": "code",
   "execution_count": 34,
   "id": "c313cb3d-8bad-4492-bd50-d5c73263100e",
   "metadata": {},
   "outputs": [
    {
     "data": {
      "text/plain": [
       "array([[1., 1., 1., 1.],\n",
       "       [1., 1., 1., 1.],\n",
       "       [1., 1., 1., 1.],\n",
       "       [1., 1., 1., 1.],\n",
       "       [1., 1., 1., 1.],\n",
       "       [1., 1., 1., 1.]])"
      ]
     },
     "execution_count": 34,
     "metadata": {},
     "output_type": "execute_result"
    }
   ],
   "source": [
    "a12"
   ]
  },
  {
   "cell_type": "markdown",
   "id": "cb260168-5e09-4643-bde4-bf39ebaedab0",
   "metadata": {},
   "source": [
    "<div class=\"alert alert-info\" role=\"alert\">\n",
    "  <b>Problem 10:</b><br>\n",
    "    Create a 6x4 array with all zero elements and store it in variable a11\n",
    "<br>\n",
    "</div>"
   ]
  },
  {
   "cell_type": "code",
   "execution_count": 37,
   "id": "d8fbe9f7-91fd-4fac-b8b3-de9ddcd2a88a",
   "metadata": {},
   "outputs": [],
   "source": [
    "a11 = np.zeros((6,4))"
   ]
  },
  {
   "cell_type": "code",
   "execution_count": 38,
   "id": "ac4f590a-e648-4077-8b16-824a9d61b86a",
   "metadata": {},
   "outputs": [
    {
     "data": {
      "text/plain": [
       "array([[0., 0., 0., 0.],\n",
       "       [0., 0., 0., 0.],\n",
       "       [0., 0., 0., 0.],\n",
       "       [0., 0., 0., 0.],\n",
       "       [0., 0., 0., 0.],\n",
       "       [0., 0., 0., 0.]])"
      ]
     },
     "execution_count": 38,
     "metadata": {},
     "output_type": "execute_result"
    }
   ],
   "source": [
    "a11"
   ]
  },
  {
   "cell_type": "markdown",
   "id": "a0696e35-52af-42f0-9dae-ce30d69bf566",
   "metadata": {},
   "source": [
    "<div class=\"alert alert-info\" role=\"alert\">\n",
    "  <b>Problem 11:</b><br>\n",
    "    A 5×5 array is stored in a variable named z, store the value of the second diameter lower than the main diameter in a variable called a10\n",
    "<br>\n",
    "</div>"
   ]
  },
  {
   "cell_type": "code",
   "execution_count": 5,
   "id": "be6a746d-5fd7-4030-a406-d826c9d31d17",
   "metadata": {},
   "outputs": [],
   "source": [
    "z = np.random.randint(10, size=(5,5))"
   ]
  },
  {
   "cell_type": "code",
   "execution_count": 6,
   "id": "0645e7a0-8db3-4d1c-946c-da4760794ecf",
   "metadata": {},
   "outputs": [
    {
     "data": {
      "text/plain": [
       "array([[6, 9, 8, 4, 6],\n",
       "       [4, 6, 8, 4, 3],\n",
       "       [8, 4, 6, 5, 1],\n",
       "       [2, 1, 5, 9, 9],\n",
       "       [4, 8, 5, 0, 4]])"
      ]
     },
     "execution_count": 6,
     "metadata": {},
     "output_type": "execute_result"
    }
   ],
   "source": [
    "z"
   ]
  },
  {
   "cell_type": "code",
   "execution_count": 7,
   "id": "6a3ea33d-a243-4138-ba90-594e265411a6",
   "metadata": {},
   "outputs": [],
   "source": [
    "a10 = np.diag(z, -2)"
   ]
  },
  {
   "cell_type": "code",
   "execution_count": 8,
   "id": "4df01472-0990-4f4b-8ab7-df667c2a18a3",
   "metadata": {},
   "outputs": [
    {
     "data": {
      "text/plain": [
       "array([8, 1, 5])"
      ]
     },
     "execution_count": 8,
     "metadata": {},
     "output_type": "execute_result"
    }
   ],
   "source": [
    "a10"
   ]
  },
  {
   "cell_type": "markdown",
   "id": "ce3485e1-2049-41c6-8814-d659a30819a1",
   "metadata": {},
   "source": [
    "<div class=\"alert alert-info\" role=\"alert\">\n",
    "  <b>Problem 12:</b><br>\n",
    "nums = np.array([[1, 2, 3, 4, 5],[6, 7, 8, 9, 10]])<br>\n",
    "    \n",
    "#### Print the second row of nums\n",
    "second_row = #?\n",
    "\n",
    "#### Print all elements of nums that are greater than six\n",
    "gt_6 = #?\n",
    "\n",
    "#### Double every element of nums\n",
    "nums_dbl = \n",
    "\n",
    "#### Replace the third column in nums with a new column that adds 1 to each item in the original column.<br>\n",
    "</div>"
   ]
  },
  {
   "cell_type": "code",
   "execution_count": 33,
   "id": "c6a9b4c3-375d-404d-9a63-017a801b795b",
   "metadata": {},
   "outputs": [],
   "source": [
    "nums = np.array([[1,2,3,4,5], [6,7,8,9,10]])"
   ]
  },
  {
   "cell_type": "code",
   "execution_count": 34,
   "id": "08e56f06-053a-4a66-9817-c58851737534",
   "metadata": {},
   "outputs": [
    {
     "data": {
      "text/plain": [
       "array([[ 1,  2,  3,  4,  5],\n",
       "       [ 6,  7,  8,  9, 10]])"
      ]
     },
     "execution_count": 34,
     "metadata": {},
     "output_type": "execute_result"
    }
   ],
   "source": [
    "nums"
   ]
  },
  {
   "cell_type": "code",
   "execution_count": 35,
   "id": "bd30a846-dfa9-4f08-83cb-b619038be384",
   "metadata": {},
   "outputs": [
    {
     "data": {
      "text/plain": [
       "array([ 6,  7,  8,  9, 10])"
      ]
     },
     "execution_count": 35,
     "metadata": {},
     "output_type": "execute_result"
    }
   ],
   "source": [
    "second_row = nums[1]\n",
    "second_row"
   ]
  },
  {
   "cell_type": "code",
   "execution_count": 36,
   "id": "00c4f460-053c-4814-9ee4-2742cfd9d94c",
   "metadata": {},
   "outputs": [
    {
     "data": {
      "text/plain": [
       "array([ 7,  8,  9, 10])"
      ]
     },
     "execution_count": 36,
     "metadata": {},
     "output_type": "execute_result"
    }
   ],
   "source": [
    "gt_6 = nums[nums > 6]\n",
    "gt_6"
   ]
  },
  {
   "cell_type": "code",
   "execution_count": 37,
   "id": "39e1ef92-d696-43fa-aa07-36492116df19",
   "metadata": {},
   "outputs": [
    {
     "data": {
      "text/plain": [
       "array([[ 2,  4,  6,  8, 10],\n",
       "       [12, 14, 16, 18, 20]])"
      ]
     },
     "execution_count": 37,
     "metadata": {},
     "output_type": "execute_result"
    }
   ],
   "source": [
    "nums_dbl = nums*2\n",
    "nums_dbl"
   ]
  },
  {
   "cell_type": "code",
   "execution_count": 40,
   "id": "69a13ad3-a0b5-4dcd-b8fb-efe85fa7e3d4",
   "metadata": {},
   "outputs": [
    {
     "data": {
      "text/plain": [
       "array([[ 1,  2,  5,  4,  5],\n",
       "       [ 6,  7, 10,  9, 10]])"
      ]
     },
     "execution_count": 40,
     "metadata": {},
     "output_type": "execute_result"
    }
   ],
   "source": [
    "nums[:, 2] = nums[:, 2] + 1\n",
    "nums"
   ]
  },
  {
   "cell_type": "markdown",
   "id": "782df911-c944-4bc7-9270-9e3a768ff803",
   "metadata": {},
   "source": [
    "<div class=\"alert alert-info\" role=\"alert\">\n",
    "  <b>Problem 13:</b><br>\n",
    "    Find the average of non-zero elements of a = np.array([1, 0, 2, 0, 3, 0, 0, 5, 6, 7, 5, 0, 8]) .\n",
    "</div>"
   ]
  },
  {
   "cell_type": "code",
   "execution_count": 46,
   "id": "1d15d920-a417-45b7-87aa-f32c5577e36f",
   "metadata": {},
   "outputs": [],
   "source": [
    "a = np.array([1, 0, 2, 0, 3, 0, 0, 5, 6, 7, 5, 0, 8])"
   ]
  },
  {
   "cell_type": "code",
   "execution_count": 49,
   "id": "c3fb2924-95b7-4a09-a893-9c322f782f0a",
   "metadata": {},
   "outputs": [
    {
     "data": {
      "text/plain": [
       "4.625"
      ]
     },
     "execution_count": 49,
     "metadata": {},
     "output_type": "execute_result"
    }
   ],
   "source": [
    "np.mean(a[np.nonzero(a)])"
   ]
  },
  {
   "cell_type": "code",
   "execution_count": null,
   "id": "07169a37-c451-4907-a265-05611acaad0a",
   "metadata": {},
   "outputs": [],
   "source": [
    "np.mean()"
   ]
  },
  {
   "cell_type": "code",
   "execution_count": null,
   "id": "f836b6c1-b5f0-428d-8f04-942d53d964af",
   "metadata": {},
   "outputs": [],
   "source": []
  },
  {
   "cell_type": "markdown",
   "id": "f7487a9f-f395-4a56-ad94-2b2b9142609c",
   "metadata": {},
   "source": [
    "<div class=\"alert alert-info\" role=\"alert\">\n",
    "  <b>First problem:</b><br>\n",
    "    Curve grades of Math exam with your desired CURVE_CENTER<br>\n",
    "    <b>hint:</b> make a random list or array of grades between 0 to 20\n",
    "</div>"
   ]
  },
  {
   "cell_type": "code",
   "execution_count": 4,
   "id": "5c1ffbaa-060b-4465-b004-7e8843b44b5b",
   "metadata": {},
   "outputs": [],
   "source": [
    "import numpy as np"
   ]
  },
  {
   "cell_type": "code",
   "execution_count": 2,
   "id": "5d688577-eaf7-43a0-9f29-0fe8622de097",
   "metadata": {},
   "outputs": [],
   "source": [
    "# create a random numpy array with 56 elements between 0 and 20\n",
    "math_grades = np.random.randint(0, 21, 56)"
   ]
  },
  {
   "cell_type": "code",
   "execution_count": 3,
   "id": "78f56947-f5a5-4822-a7ce-4e9876a248ca",
   "metadata": {},
   "outputs": [],
   "source": [
    "def curve_grades(grades: np.ndarray, curve_center: [int, float]):\n",
    "    \"\"\"\n",
    "    curve given grades, with given curve center\n",
    "    \n",
    "    :param: grades: a numpy array of grades\n",
    "    :param: curve_center: an int or float number that will curve grades with it.\n",
    "    :return: an numpy array\n",
    "    \"\"\"\n",
    "    \n",
    "    average = grades.mean()\n",
    "    change = curve_center - average\n",
    "    \n",
    "    if change < 0:\n",
    "        return grades\n",
    "    else:\n",
    "        return np.clip((grades + change), a_min=0, a_max=20)"
   ]
  },
  {
   "cell_type": "code",
   "execution_count": 4,
   "id": "4ecec01d-120d-4c36-9296-2ae0476be6c7",
   "metadata": {},
   "outputs": [
    {
     "data": {
      "text/plain": [
       "10.357142857142858"
      ]
     },
     "execution_count": 4,
     "metadata": {},
     "output_type": "execute_result"
    }
   ],
   "source": [
    "math_grades.mean()"
   ]
  },
  {
   "cell_type": "code",
   "execution_count": 5,
   "id": "49a56124-2c1f-41c9-ba62-cbbfcd770e98",
   "metadata": {},
   "outputs": [
    {
     "data": {
      "text/plain": [
       "array([12.64285714, 13.64285714, 20.        , 16.64285714, 20.        ,\n",
       "       20.        , 19.64285714, 14.64285714, 19.64285714,  7.64285714,\n",
       "        5.64285714,  4.64285714, 14.64285714,  6.64285714, 10.64285714,\n",
       "        5.64285714,  4.64285714, 19.64285714,  8.64285714, 10.64285714,\n",
       "        9.64285714,  4.64285714, 20.        , 10.64285714,  5.64285714,\n",
       "       20.        ,  4.64285714, 12.64285714, 20.        , 12.64285714,\n",
       "       18.64285714, 19.64285714,  8.64285714, 16.64285714, 20.        ,\n",
       "        7.64285714, 20.        , 20.        , 19.64285714, 14.64285714,\n",
       "       20.        , 12.64285714, 18.64285714, 20.        , 12.64285714,\n",
       "       15.64285714, 12.64285714, 15.64285714, 17.64285714, 20.        ,\n",
       "       20.        ,  7.64285714, 20.        , 18.64285714,  8.64285714,\n",
       "       20.        ])"
      ]
     },
     "execution_count": 5,
     "metadata": {},
     "output_type": "execute_result"
    }
   ],
   "source": [
    "grades_after_curve = curve_grades(grades=math_grades, curve_center=15)\n",
    "grades_after_curve"
   ]
  },
  {
   "cell_type": "code",
   "execution_count": 6,
   "id": "b0d44cc4-cd17-4954-af72-f29e7408c2a7",
   "metadata": {},
   "outputs": [
    {
     "data": {
      "text/plain": [
       "14.327806122448978"
      ]
     },
     "execution_count": 6,
     "metadata": {},
     "output_type": "execute_result"
    }
   ],
   "source": [
    "grades_after_curve.mean()"
   ]
  },
  {
   "cell_type": "code",
   "execution_count": 9,
   "id": "d81921a2-5ddd-49f6-9cfb-24559e9f4684",
   "metadata": {},
   "outputs": [
    {
     "data": {
      "application/vnd.plotly.v1+json": {
       "config": {
        "plotlyServerURL": "https://plot.ly"
       },
       "data": [
        {
         "opacity": 0.75,
         "type": "histogram",
         "x": [
          8,
          9,
          16,
          12,
          17,
          18,
          15,
          10,
          15,
          3,
          1,
          0,
          10,
          2,
          6,
          1,
          0,
          15,
          4,
          6,
          5,
          0,
          18,
          6,
          1,
          19,
          0,
          8,
          17,
          8,
          14,
          15,
          4,
          12,
          19,
          3,
          16,
          20,
          15,
          10,
          19,
          8,
          14,
          20,
          8,
          11,
          8,
          11,
          13,
          19,
          17,
          3,
          17,
          14,
          4,
          16
         ]
        },
        {
         "opacity": 0.75,
         "type": "histogram",
         "x": [
          12.642857142857142,
          13.642857142857142,
          20,
          16.642857142857142,
          20,
          20,
          19.642857142857142,
          14.642857142857142,
          19.642857142857142,
          7.642857142857142,
          5.642857142857142,
          4.642857142857142,
          14.642857142857142,
          6.642857142857142,
          10.642857142857142,
          5.642857142857142,
          4.642857142857142,
          19.642857142857142,
          8.642857142857142,
          10.642857142857142,
          9.642857142857142,
          4.642857142857142,
          20,
          10.642857142857142,
          5.642857142857142,
          20,
          4.642857142857142,
          12.642857142857142,
          20,
          12.642857142857142,
          18.642857142857142,
          19.642857142857142,
          8.642857142857142,
          16.642857142857142,
          20,
          7.642857142857142,
          20,
          20,
          19.642857142857142,
          14.642857142857142,
          20,
          12.642857142857142,
          18.642857142857142,
          20,
          12.642857142857142,
          15.642857142857142,
          12.642857142857142,
          15.642857142857142,
          17.642857142857142,
          20,
          20,
          7.642857142857142,
          20,
          18.642857142857142,
          8.642857142857142,
          20
         ]
        }
       ],
       "layout": {
        "barmode": "overlay",
        "template": {
         "data": {
          "bar": [
           {
            "error_x": {
             "color": "#2a3f5f"
            },
            "error_y": {
             "color": "#2a3f5f"
            },
            "marker": {
             "line": {
              "color": "#E5ECF6",
              "width": 0.5
             }
            },
            "type": "bar"
           }
          ],
          "barpolar": [
           {
            "marker": {
             "line": {
              "color": "#E5ECF6",
              "width": 0.5
             }
            },
            "type": "barpolar"
           }
          ],
          "carpet": [
           {
            "aaxis": {
             "endlinecolor": "#2a3f5f",
             "gridcolor": "white",
             "linecolor": "white",
             "minorgridcolor": "white",
             "startlinecolor": "#2a3f5f"
            },
            "baxis": {
             "endlinecolor": "#2a3f5f",
             "gridcolor": "white",
             "linecolor": "white",
             "minorgridcolor": "white",
             "startlinecolor": "#2a3f5f"
            },
            "type": "carpet"
           }
          ],
          "choropleth": [
           {
            "colorbar": {
             "outlinewidth": 0,
             "ticks": ""
            },
            "type": "choropleth"
           }
          ],
          "contour": [
           {
            "colorbar": {
             "outlinewidth": 0,
             "ticks": ""
            },
            "colorscale": [
             [
              0,
              "#0d0887"
             ],
             [
              0.1111111111111111,
              "#46039f"
             ],
             [
              0.2222222222222222,
              "#7201a8"
             ],
             [
              0.3333333333333333,
              "#9c179e"
             ],
             [
              0.4444444444444444,
              "#bd3786"
             ],
             [
              0.5555555555555556,
              "#d8576b"
             ],
             [
              0.6666666666666666,
              "#ed7953"
             ],
             [
              0.7777777777777778,
              "#fb9f3a"
             ],
             [
              0.8888888888888888,
              "#fdca26"
             ],
             [
              1,
              "#f0f921"
             ]
            ],
            "type": "contour"
           }
          ],
          "contourcarpet": [
           {
            "colorbar": {
             "outlinewidth": 0,
             "ticks": ""
            },
            "type": "contourcarpet"
           }
          ],
          "heatmap": [
           {
            "colorbar": {
             "outlinewidth": 0,
             "ticks": ""
            },
            "colorscale": [
             [
              0,
              "#0d0887"
             ],
             [
              0.1111111111111111,
              "#46039f"
             ],
             [
              0.2222222222222222,
              "#7201a8"
             ],
             [
              0.3333333333333333,
              "#9c179e"
             ],
             [
              0.4444444444444444,
              "#bd3786"
             ],
             [
              0.5555555555555556,
              "#d8576b"
             ],
             [
              0.6666666666666666,
              "#ed7953"
             ],
             [
              0.7777777777777778,
              "#fb9f3a"
             ],
             [
              0.8888888888888888,
              "#fdca26"
             ],
             [
              1,
              "#f0f921"
             ]
            ],
            "type": "heatmap"
           }
          ],
          "heatmapgl": [
           {
            "colorbar": {
             "outlinewidth": 0,
             "ticks": ""
            },
            "colorscale": [
             [
              0,
              "#0d0887"
             ],
             [
              0.1111111111111111,
              "#46039f"
             ],
             [
              0.2222222222222222,
              "#7201a8"
             ],
             [
              0.3333333333333333,
              "#9c179e"
             ],
             [
              0.4444444444444444,
              "#bd3786"
             ],
             [
              0.5555555555555556,
              "#d8576b"
             ],
             [
              0.6666666666666666,
              "#ed7953"
             ],
             [
              0.7777777777777778,
              "#fb9f3a"
             ],
             [
              0.8888888888888888,
              "#fdca26"
             ],
             [
              1,
              "#f0f921"
             ]
            ],
            "type": "heatmapgl"
           }
          ],
          "histogram": [
           {
            "marker": {
             "colorbar": {
              "outlinewidth": 0,
              "ticks": ""
             }
            },
            "type": "histogram"
           }
          ],
          "histogram2d": [
           {
            "colorbar": {
             "outlinewidth": 0,
             "ticks": ""
            },
            "colorscale": [
             [
              0,
              "#0d0887"
             ],
             [
              0.1111111111111111,
              "#46039f"
             ],
             [
              0.2222222222222222,
              "#7201a8"
             ],
             [
              0.3333333333333333,
              "#9c179e"
             ],
             [
              0.4444444444444444,
              "#bd3786"
             ],
             [
              0.5555555555555556,
              "#d8576b"
             ],
             [
              0.6666666666666666,
              "#ed7953"
             ],
             [
              0.7777777777777778,
              "#fb9f3a"
             ],
             [
              0.8888888888888888,
              "#fdca26"
             ],
             [
              1,
              "#f0f921"
             ]
            ],
            "type": "histogram2d"
           }
          ],
          "histogram2dcontour": [
           {
            "colorbar": {
             "outlinewidth": 0,
             "ticks": ""
            },
            "colorscale": [
             [
              0,
              "#0d0887"
             ],
             [
              0.1111111111111111,
              "#46039f"
             ],
             [
              0.2222222222222222,
              "#7201a8"
             ],
             [
              0.3333333333333333,
              "#9c179e"
             ],
             [
              0.4444444444444444,
              "#bd3786"
             ],
             [
              0.5555555555555556,
              "#d8576b"
             ],
             [
              0.6666666666666666,
              "#ed7953"
             ],
             [
              0.7777777777777778,
              "#fb9f3a"
             ],
             [
              0.8888888888888888,
              "#fdca26"
             ],
             [
              1,
              "#f0f921"
             ]
            ],
            "type": "histogram2dcontour"
           }
          ],
          "mesh3d": [
           {
            "colorbar": {
             "outlinewidth": 0,
             "ticks": ""
            },
            "type": "mesh3d"
           }
          ],
          "parcoords": [
           {
            "line": {
             "colorbar": {
              "outlinewidth": 0,
              "ticks": ""
             }
            },
            "type": "parcoords"
           }
          ],
          "pie": [
           {
            "automargin": true,
            "type": "pie"
           }
          ],
          "scatter": [
           {
            "marker": {
             "colorbar": {
              "outlinewidth": 0,
              "ticks": ""
             }
            },
            "type": "scatter"
           }
          ],
          "scatter3d": [
           {
            "line": {
             "colorbar": {
              "outlinewidth": 0,
              "ticks": ""
             }
            },
            "marker": {
             "colorbar": {
              "outlinewidth": 0,
              "ticks": ""
             }
            },
            "type": "scatter3d"
           }
          ],
          "scattercarpet": [
           {
            "marker": {
             "colorbar": {
              "outlinewidth": 0,
              "ticks": ""
             }
            },
            "type": "scattercarpet"
           }
          ],
          "scattergeo": [
           {
            "marker": {
             "colorbar": {
              "outlinewidth": 0,
              "ticks": ""
             }
            },
            "type": "scattergeo"
           }
          ],
          "scattergl": [
           {
            "marker": {
             "colorbar": {
              "outlinewidth": 0,
              "ticks": ""
             }
            },
            "type": "scattergl"
           }
          ],
          "scattermapbox": [
           {
            "marker": {
             "colorbar": {
              "outlinewidth": 0,
              "ticks": ""
             }
            },
            "type": "scattermapbox"
           }
          ],
          "scatterpolar": [
           {
            "marker": {
             "colorbar": {
              "outlinewidth": 0,
              "ticks": ""
             }
            },
            "type": "scatterpolar"
           }
          ],
          "scatterpolargl": [
           {
            "marker": {
             "colorbar": {
              "outlinewidth": 0,
              "ticks": ""
             }
            },
            "type": "scatterpolargl"
           }
          ],
          "scatterternary": [
           {
            "marker": {
             "colorbar": {
              "outlinewidth": 0,
              "ticks": ""
             }
            },
            "type": "scatterternary"
           }
          ],
          "surface": [
           {
            "colorbar": {
             "outlinewidth": 0,
             "ticks": ""
            },
            "colorscale": [
             [
              0,
              "#0d0887"
             ],
             [
              0.1111111111111111,
              "#46039f"
             ],
             [
              0.2222222222222222,
              "#7201a8"
             ],
             [
              0.3333333333333333,
              "#9c179e"
             ],
             [
              0.4444444444444444,
              "#bd3786"
             ],
             [
              0.5555555555555556,
              "#d8576b"
             ],
             [
              0.6666666666666666,
              "#ed7953"
             ],
             [
              0.7777777777777778,
              "#fb9f3a"
             ],
             [
              0.8888888888888888,
              "#fdca26"
             ],
             [
              1,
              "#f0f921"
             ]
            ],
            "type": "surface"
           }
          ],
          "table": [
           {
            "cells": {
             "fill": {
              "color": "#EBF0F8"
             },
             "line": {
              "color": "white"
             }
            },
            "header": {
             "fill": {
              "color": "#C8D4E3"
             },
             "line": {
              "color": "white"
             }
            },
            "type": "table"
           }
          ]
         },
         "layout": {
          "annotationdefaults": {
           "arrowcolor": "#2a3f5f",
           "arrowhead": 0,
           "arrowwidth": 1
          },
          "autotypenumbers": "strict",
          "coloraxis": {
           "colorbar": {
            "outlinewidth": 0,
            "ticks": ""
           }
          },
          "colorscale": {
           "diverging": [
            [
             0,
             "#8e0152"
            ],
            [
             0.1,
             "#c51b7d"
            ],
            [
             0.2,
             "#de77ae"
            ],
            [
             0.3,
             "#f1b6da"
            ],
            [
             0.4,
             "#fde0ef"
            ],
            [
             0.5,
             "#f7f7f7"
            ],
            [
             0.6,
             "#e6f5d0"
            ],
            [
             0.7,
             "#b8e186"
            ],
            [
             0.8,
             "#7fbc41"
            ],
            [
             0.9,
             "#4d9221"
            ],
            [
             1,
             "#276419"
            ]
           ],
           "sequential": [
            [
             0,
             "#0d0887"
            ],
            [
             0.1111111111111111,
             "#46039f"
            ],
            [
             0.2222222222222222,
             "#7201a8"
            ],
            [
             0.3333333333333333,
             "#9c179e"
            ],
            [
             0.4444444444444444,
             "#bd3786"
            ],
            [
             0.5555555555555556,
             "#d8576b"
            ],
            [
             0.6666666666666666,
             "#ed7953"
            ],
            [
             0.7777777777777778,
             "#fb9f3a"
            ],
            [
             0.8888888888888888,
             "#fdca26"
            ],
            [
             1,
             "#f0f921"
            ]
           ],
           "sequentialminus": [
            [
             0,
             "#0d0887"
            ],
            [
             0.1111111111111111,
             "#46039f"
            ],
            [
             0.2222222222222222,
             "#7201a8"
            ],
            [
             0.3333333333333333,
             "#9c179e"
            ],
            [
             0.4444444444444444,
             "#bd3786"
            ],
            [
             0.5555555555555556,
             "#d8576b"
            ],
            [
             0.6666666666666666,
             "#ed7953"
            ],
            [
             0.7777777777777778,
             "#fb9f3a"
            ],
            [
             0.8888888888888888,
             "#fdca26"
            ],
            [
             1,
             "#f0f921"
            ]
           ]
          },
          "colorway": [
           "#636efa",
           "#EF553B",
           "#00cc96",
           "#ab63fa",
           "#FFA15A",
           "#19d3f3",
           "#FF6692",
           "#B6E880",
           "#FF97FF",
           "#FECB52"
          ],
          "font": {
           "color": "#2a3f5f"
          },
          "geo": {
           "bgcolor": "white",
           "lakecolor": "white",
           "landcolor": "#E5ECF6",
           "showlakes": true,
           "showland": true,
           "subunitcolor": "white"
          },
          "hoverlabel": {
           "align": "left"
          },
          "hovermode": "closest",
          "mapbox": {
           "style": "light"
          },
          "paper_bgcolor": "white",
          "plot_bgcolor": "#E5ECF6",
          "polar": {
           "angularaxis": {
            "gridcolor": "white",
            "linecolor": "white",
            "ticks": ""
           },
           "bgcolor": "#E5ECF6",
           "radialaxis": {
            "gridcolor": "white",
            "linecolor": "white",
            "ticks": ""
           }
          },
          "scene": {
           "xaxis": {
            "backgroundcolor": "#E5ECF6",
            "gridcolor": "white",
            "gridwidth": 2,
            "linecolor": "white",
            "showbackground": true,
            "ticks": "",
            "zerolinecolor": "white"
           },
           "yaxis": {
            "backgroundcolor": "#E5ECF6",
            "gridcolor": "white",
            "gridwidth": 2,
            "linecolor": "white",
            "showbackground": true,
            "ticks": "",
            "zerolinecolor": "white"
           },
           "zaxis": {
            "backgroundcolor": "#E5ECF6",
            "gridcolor": "white",
            "gridwidth": 2,
            "linecolor": "white",
            "showbackground": true,
            "ticks": "",
            "zerolinecolor": "white"
           }
          },
          "shapedefaults": {
           "line": {
            "color": "#2a3f5f"
           }
          },
          "ternary": {
           "aaxis": {
            "gridcolor": "white",
            "linecolor": "white",
            "ticks": ""
           },
           "baxis": {
            "gridcolor": "white",
            "linecolor": "white",
            "ticks": ""
           },
           "bgcolor": "#E5ECF6",
           "caxis": {
            "gridcolor": "white",
            "linecolor": "white",
            "ticks": ""
           }
          },
          "title": {
           "x": 0.05
          },
          "xaxis": {
           "automargin": true,
           "gridcolor": "white",
           "linecolor": "white",
           "ticks": "",
           "title": {
            "standoff": 15
           },
           "zerolinecolor": "white",
           "zerolinewidth": 2
          },
          "yaxis": {
           "automargin": true,
           "gridcolor": "white",
           "linecolor": "white",
           "ticks": "",
           "title": {
            "standoff": 15
           },
           "zerolinecolor": "white",
           "zerolinewidth": 2
          }
         }
        }
       }
      },
      "text/html": [
       "<div>                            <div id=\"eee8995a-9253-4f49-9325-9cf33824c74e\" class=\"plotly-graph-div\" style=\"height:525px; width:100%;\"></div>            <script type=\"text/javascript\">                require([\"plotly\"], function(Plotly) {                    window.PLOTLYENV=window.PLOTLYENV || {};                                    if (document.getElementById(\"eee8995a-9253-4f49-9325-9cf33824c74e\")) {                    Plotly.newPlot(                        \"eee8995a-9253-4f49-9325-9cf33824c74e\",                        [{\"opacity\": 0.75, \"type\": \"histogram\", \"x\": [8, 9, 16, 12, 17, 18, 15, 10, 15, 3, 1, 0, 10, 2, 6, 1, 0, 15, 4, 6, 5, 0, 18, 6, 1, 19, 0, 8, 17, 8, 14, 15, 4, 12, 19, 3, 16, 20, 15, 10, 19, 8, 14, 20, 8, 11, 8, 11, 13, 19, 17, 3, 17, 14, 4, 16]}, {\"opacity\": 0.75, \"type\": \"histogram\", \"x\": [12.642857142857142, 13.642857142857142, 20.0, 16.642857142857142, 20.0, 20.0, 19.642857142857142, 14.642857142857142, 19.642857142857142, 7.642857142857142, 5.642857142857142, 4.642857142857142, 14.642857142857142, 6.642857142857142, 10.642857142857142, 5.642857142857142, 4.642857142857142, 19.642857142857142, 8.642857142857142, 10.642857142857142, 9.642857142857142, 4.642857142857142, 20.0, 10.642857142857142, 5.642857142857142, 20.0, 4.642857142857142, 12.642857142857142, 20.0, 12.642857142857142, 18.642857142857142, 19.642857142857142, 8.642857142857142, 16.642857142857142, 20.0, 7.642857142857142, 20.0, 20.0, 19.642857142857142, 14.642857142857142, 20.0, 12.642857142857142, 18.642857142857142, 20.0, 12.642857142857142, 15.642857142857142, 12.642857142857142, 15.642857142857142, 17.642857142857142, 20.0, 20.0, 7.642857142857142, 20.0, 18.642857142857142, 8.642857142857142, 20.0]}],                        {\"barmode\": \"overlay\", \"template\": {\"data\": {\"bar\": [{\"error_x\": {\"color\": \"#2a3f5f\"}, \"error_y\": {\"color\": \"#2a3f5f\"}, \"marker\": {\"line\": {\"color\": \"#E5ECF6\", \"width\": 0.5}}, \"type\": \"bar\"}], \"barpolar\": [{\"marker\": {\"line\": {\"color\": \"#E5ECF6\", \"width\": 0.5}}, \"type\": \"barpolar\"}], \"carpet\": [{\"aaxis\": {\"endlinecolor\": \"#2a3f5f\", \"gridcolor\": \"white\", \"linecolor\": \"white\", \"minorgridcolor\": \"white\", \"startlinecolor\": \"#2a3f5f\"}, \"baxis\": {\"endlinecolor\": \"#2a3f5f\", \"gridcolor\": \"white\", \"linecolor\": \"white\", \"minorgridcolor\": \"white\", \"startlinecolor\": \"#2a3f5f\"}, \"type\": \"carpet\"}], \"choropleth\": [{\"colorbar\": {\"outlinewidth\": 0, \"ticks\": \"\"}, \"type\": \"choropleth\"}], \"contour\": [{\"colorbar\": {\"outlinewidth\": 0, \"ticks\": \"\"}, \"colorscale\": [[0.0, \"#0d0887\"], [0.1111111111111111, \"#46039f\"], [0.2222222222222222, \"#7201a8\"], [0.3333333333333333, \"#9c179e\"], [0.4444444444444444, \"#bd3786\"], [0.5555555555555556, \"#d8576b\"], [0.6666666666666666, \"#ed7953\"], [0.7777777777777778, \"#fb9f3a\"], [0.8888888888888888, \"#fdca26\"], [1.0, \"#f0f921\"]], \"type\": \"contour\"}], \"contourcarpet\": [{\"colorbar\": {\"outlinewidth\": 0, \"ticks\": \"\"}, \"type\": \"contourcarpet\"}], \"heatmap\": [{\"colorbar\": {\"outlinewidth\": 0, \"ticks\": \"\"}, \"colorscale\": [[0.0, \"#0d0887\"], [0.1111111111111111, \"#46039f\"], [0.2222222222222222, \"#7201a8\"], [0.3333333333333333, \"#9c179e\"], [0.4444444444444444, \"#bd3786\"], [0.5555555555555556, \"#d8576b\"], [0.6666666666666666, \"#ed7953\"], [0.7777777777777778, \"#fb9f3a\"], [0.8888888888888888, \"#fdca26\"], [1.0, \"#f0f921\"]], \"type\": \"heatmap\"}], \"heatmapgl\": [{\"colorbar\": {\"outlinewidth\": 0, \"ticks\": \"\"}, \"colorscale\": [[0.0, \"#0d0887\"], [0.1111111111111111, \"#46039f\"], [0.2222222222222222, \"#7201a8\"], [0.3333333333333333, \"#9c179e\"], [0.4444444444444444, \"#bd3786\"], [0.5555555555555556, \"#d8576b\"], [0.6666666666666666, \"#ed7953\"], [0.7777777777777778, \"#fb9f3a\"], [0.8888888888888888, \"#fdca26\"], [1.0, \"#f0f921\"]], \"type\": \"heatmapgl\"}], \"histogram\": [{\"marker\": {\"colorbar\": {\"outlinewidth\": 0, \"ticks\": \"\"}}, \"type\": \"histogram\"}], \"histogram2d\": [{\"colorbar\": {\"outlinewidth\": 0, \"ticks\": \"\"}, \"colorscale\": [[0.0, \"#0d0887\"], [0.1111111111111111, \"#46039f\"], [0.2222222222222222, \"#7201a8\"], [0.3333333333333333, \"#9c179e\"], [0.4444444444444444, \"#bd3786\"], [0.5555555555555556, \"#d8576b\"], [0.6666666666666666, \"#ed7953\"], [0.7777777777777778, \"#fb9f3a\"], [0.8888888888888888, \"#fdca26\"], [1.0, \"#f0f921\"]], \"type\": \"histogram2d\"}], \"histogram2dcontour\": [{\"colorbar\": {\"outlinewidth\": 0, \"ticks\": \"\"}, \"colorscale\": [[0.0, \"#0d0887\"], [0.1111111111111111, \"#46039f\"], [0.2222222222222222, \"#7201a8\"], [0.3333333333333333, \"#9c179e\"], [0.4444444444444444, \"#bd3786\"], [0.5555555555555556, \"#d8576b\"], [0.6666666666666666, \"#ed7953\"], [0.7777777777777778, \"#fb9f3a\"], [0.8888888888888888, \"#fdca26\"], [1.0, \"#f0f921\"]], \"type\": \"histogram2dcontour\"}], \"mesh3d\": [{\"colorbar\": {\"outlinewidth\": 0, \"ticks\": \"\"}, \"type\": \"mesh3d\"}], \"parcoords\": [{\"line\": {\"colorbar\": {\"outlinewidth\": 0, \"ticks\": \"\"}}, \"type\": \"parcoords\"}], \"pie\": [{\"automargin\": true, \"type\": \"pie\"}], \"scatter\": [{\"marker\": {\"colorbar\": {\"outlinewidth\": 0, \"ticks\": \"\"}}, \"type\": \"scatter\"}], \"scatter3d\": [{\"line\": {\"colorbar\": {\"outlinewidth\": 0, \"ticks\": \"\"}}, \"marker\": {\"colorbar\": {\"outlinewidth\": 0, \"ticks\": \"\"}}, \"type\": \"scatter3d\"}], \"scattercarpet\": [{\"marker\": {\"colorbar\": {\"outlinewidth\": 0, \"ticks\": \"\"}}, \"type\": \"scattercarpet\"}], \"scattergeo\": [{\"marker\": {\"colorbar\": {\"outlinewidth\": 0, \"ticks\": \"\"}}, \"type\": \"scattergeo\"}], \"scattergl\": [{\"marker\": {\"colorbar\": {\"outlinewidth\": 0, \"ticks\": \"\"}}, \"type\": \"scattergl\"}], \"scattermapbox\": [{\"marker\": {\"colorbar\": {\"outlinewidth\": 0, \"ticks\": \"\"}}, \"type\": \"scattermapbox\"}], \"scatterpolar\": [{\"marker\": {\"colorbar\": {\"outlinewidth\": 0, \"ticks\": \"\"}}, \"type\": \"scatterpolar\"}], \"scatterpolargl\": [{\"marker\": {\"colorbar\": {\"outlinewidth\": 0, \"ticks\": \"\"}}, \"type\": \"scatterpolargl\"}], \"scatterternary\": [{\"marker\": {\"colorbar\": {\"outlinewidth\": 0, \"ticks\": \"\"}}, \"type\": \"scatterternary\"}], \"surface\": [{\"colorbar\": {\"outlinewidth\": 0, \"ticks\": \"\"}, \"colorscale\": [[0.0, \"#0d0887\"], [0.1111111111111111, \"#46039f\"], [0.2222222222222222, \"#7201a8\"], [0.3333333333333333, \"#9c179e\"], [0.4444444444444444, \"#bd3786\"], [0.5555555555555556, \"#d8576b\"], [0.6666666666666666, \"#ed7953\"], [0.7777777777777778, \"#fb9f3a\"], [0.8888888888888888, \"#fdca26\"], [1.0, \"#f0f921\"]], \"type\": \"surface\"}], \"table\": [{\"cells\": {\"fill\": {\"color\": \"#EBF0F8\"}, \"line\": {\"color\": \"white\"}}, \"header\": {\"fill\": {\"color\": \"#C8D4E3\"}, \"line\": {\"color\": \"white\"}}, \"type\": \"table\"}]}, \"layout\": {\"annotationdefaults\": {\"arrowcolor\": \"#2a3f5f\", \"arrowhead\": 0, \"arrowwidth\": 1}, \"autotypenumbers\": \"strict\", \"coloraxis\": {\"colorbar\": {\"outlinewidth\": 0, \"ticks\": \"\"}}, \"colorscale\": {\"diverging\": [[0, \"#8e0152\"], [0.1, \"#c51b7d\"], [0.2, \"#de77ae\"], [0.3, \"#f1b6da\"], [0.4, \"#fde0ef\"], [0.5, \"#f7f7f7\"], [0.6, \"#e6f5d0\"], [0.7, \"#b8e186\"], [0.8, \"#7fbc41\"], [0.9, \"#4d9221\"], [1, \"#276419\"]], \"sequential\": [[0.0, \"#0d0887\"], [0.1111111111111111, \"#46039f\"], [0.2222222222222222, \"#7201a8\"], [0.3333333333333333, \"#9c179e\"], [0.4444444444444444, \"#bd3786\"], [0.5555555555555556, \"#d8576b\"], [0.6666666666666666, \"#ed7953\"], [0.7777777777777778, \"#fb9f3a\"], [0.8888888888888888, \"#fdca26\"], [1.0, \"#f0f921\"]], \"sequentialminus\": [[0.0, \"#0d0887\"], [0.1111111111111111, \"#46039f\"], [0.2222222222222222, \"#7201a8\"], [0.3333333333333333, \"#9c179e\"], [0.4444444444444444, \"#bd3786\"], [0.5555555555555556, \"#d8576b\"], [0.6666666666666666, \"#ed7953\"], [0.7777777777777778, \"#fb9f3a\"], [0.8888888888888888, \"#fdca26\"], [1.0, \"#f0f921\"]]}, \"colorway\": [\"#636efa\", \"#EF553B\", \"#00cc96\", \"#ab63fa\", \"#FFA15A\", \"#19d3f3\", \"#FF6692\", \"#B6E880\", \"#FF97FF\", \"#FECB52\"], \"font\": {\"color\": \"#2a3f5f\"}, \"geo\": {\"bgcolor\": \"white\", \"lakecolor\": \"white\", \"landcolor\": \"#E5ECF6\", \"showlakes\": true, \"showland\": true, \"subunitcolor\": \"white\"}, \"hoverlabel\": {\"align\": \"left\"}, \"hovermode\": \"closest\", \"mapbox\": {\"style\": \"light\"}, \"paper_bgcolor\": \"white\", \"plot_bgcolor\": \"#E5ECF6\", \"polar\": {\"angularaxis\": {\"gridcolor\": \"white\", \"linecolor\": \"white\", \"ticks\": \"\"}, \"bgcolor\": \"#E5ECF6\", \"radialaxis\": {\"gridcolor\": \"white\", \"linecolor\": \"white\", \"ticks\": \"\"}}, \"scene\": {\"xaxis\": {\"backgroundcolor\": \"#E5ECF6\", \"gridcolor\": \"white\", \"gridwidth\": 2, \"linecolor\": \"white\", \"showbackground\": true, \"ticks\": \"\", \"zerolinecolor\": \"white\"}, \"yaxis\": {\"backgroundcolor\": \"#E5ECF6\", \"gridcolor\": \"white\", \"gridwidth\": 2, \"linecolor\": \"white\", \"showbackground\": true, \"ticks\": \"\", \"zerolinecolor\": \"white\"}, \"zaxis\": {\"backgroundcolor\": \"#E5ECF6\", \"gridcolor\": \"white\", \"gridwidth\": 2, \"linecolor\": \"white\", \"showbackground\": true, \"ticks\": \"\", \"zerolinecolor\": \"white\"}}, \"shapedefaults\": {\"line\": {\"color\": \"#2a3f5f\"}}, \"ternary\": {\"aaxis\": {\"gridcolor\": \"white\", \"linecolor\": \"white\", \"ticks\": \"\"}, \"baxis\": {\"gridcolor\": \"white\", \"linecolor\": \"white\", \"ticks\": \"\"}, \"bgcolor\": \"#E5ECF6\", \"caxis\": {\"gridcolor\": \"white\", \"linecolor\": \"white\", \"ticks\": \"\"}}, \"title\": {\"x\": 0.05}, \"xaxis\": {\"automargin\": true, \"gridcolor\": \"white\", \"linecolor\": \"white\", \"ticks\": \"\", \"title\": {\"standoff\": 15}, \"zerolinecolor\": \"white\", \"zerolinewidth\": 2}, \"yaxis\": {\"automargin\": true, \"gridcolor\": \"white\", \"linecolor\": \"white\", \"ticks\": \"\", \"title\": {\"standoff\": 15}, \"zerolinecolor\": \"white\", \"zerolinewidth\": 2}}}},                        {\"responsive\": true}                    ).then(function(){\n",
       "                            \n",
       "var gd = document.getElementById('eee8995a-9253-4f49-9325-9cf33824c74e');\n",
       "var x = new MutationObserver(function (mutations, observer) {{\n",
       "        var display = window.getComputedStyle(gd).display;\n",
       "        if (!display || display === 'none') {{\n",
       "            console.log([gd, 'removed!']);\n",
       "            Plotly.purge(gd);\n",
       "            observer.disconnect();\n",
       "        }}\n",
       "}});\n",
       "\n",
       "// Listen for the removal of the full notebook cells\n",
       "var notebookContainer = gd.closest('#notebook-container');\n",
       "if (notebookContainer) {{\n",
       "    x.observe(notebookContainer, {childList: true});\n",
       "}}\n",
       "\n",
       "// Listen for the clearing of the current output cell\n",
       "var outputEl = gd.closest('.output');\n",
       "if (outputEl) {{\n",
       "    x.observe(outputEl, {childList: true});\n",
       "}}\n",
       "\n",
       "                        })                };                });            </script>        </div>"
      ]
     },
     "metadata": {},
     "output_type": "display_data"
    }
   ],
   "source": [
    "import plotly.graph_objects as go\n",
    "\n",
    "\n",
    "x0 = math_grades\n",
    "x1 = grades_after_curve\n",
    "\n",
    "fig = go.Figure()\n",
    "fig.add_trace(go.Histogram(x=x0))\n",
    "fig.add_trace(go.Histogram(x=x1))\n",
    "\n",
    "# Overlay both histograms\n",
    "fig.update_layout(barmode='overlay')\n",
    "# Reduce opacity to see both histograms\n",
    "fig.update_traces(opacity=0.75)\n",
    "fig.show()"
   ]
  },
  {
   "cell_type": "markdown",
   "id": "a61abcc9-d8ae-4357-9cc0-c42a7119241f",
   "metadata": {},
   "source": [
    "<div class=\"alert alert-info\" role=\"alert\">\n",
    "  <b>Problem 2:</b><br>\n",
    "    Implementing a Maclaurin Series<br>\n",
    "    <b>hint:</b> $e^x = \\sum _{n=0} ^{\\infty} \\frac{x^n}{n!} = 1 + x + \\frac{x^2}{2} + \\frac{x^3}{6} + ...$\n",
    "</div>"
   ]
  },
  {
   "cell_type": "code",
   "execution_count": 1,
   "id": "d5fbf702-da6a-40e5-a8e1-afea31014b87",
   "metadata": {},
   "outputs": [],
   "source": [
    "from math import factorial"
   ]
  },
  {
   "cell_type": "code",
   "execution_count": 12,
   "id": "130be38d-8d08-499d-a2f9-1850ced0c74e",
   "metadata": {},
   "outputs": [],
   "source": [
    "fac = np.vectorize(factorial)"
   ]
  },
  {
   "cell_type": "code",
   "execution_count": 13,
   "id": "79dcf0df-bc02-4a43-9024-8ffd86ab4872",
   "metadata": {},
   "outputs": [],
   "source": [
    "def e_x(x, terms):\n",
    "    n = np.arange(terms)\n",
    "    return np.sum((x**n) / fac(n))"
   ]
  },
  {
   "cell_type": "code",
   "execution_count": 18,
   "id": "48cc20d0-4a36-431d-9f63-a126a5da3b2c",
   "metadata": {},
   "outputs": [
    {
     "data": {
      "text/plain": [
       "20.06339285714286"
      ]
     },
     "execution_count": 18,
     "metadata": {},
     "output_type": "execute_result"
    }
   ],
   "source": [
    "e_x(3, 10)"
   ]
  },
  {
   "cell_type": "markdown",
   "id": "301abe06-1f14-41d8-b3ef-3c699e575a3b",
   "metadata": {},
   "source": [
    "<div class=\"alert alert-info\" role=\"alert\">\n",
    "  <b>Problem 2:</b><br>\n",
    "    Implementing a Maclaurin Series<br>\n",
    "    <b>hint:</b> $e^x = \\sum _{n=0} ^{\\infty} \\frac{x^n}{n!} = 1 + x + \\frac{x^2}{2} + \\frac{x^3}{6} + ...$\n",
    "</div>"
   ]
  },
  {
   "cell_type": "markdown",
   "id": "52bfc101-4012-4797-8a5a-e8d8c04cebb2",
   "metadata": {},
   "source": [
    "<div class=\"alert alert-info\" role=\"alert\">\n",
    "  <b>Problem 3:</b><br>\n",
    "    -------<br>\n",
    "    <b>hint:</b> ----"
   ]
  },
  {
   "cell_type": "code",
   "execution_count": null,
   "id": "a0e1f060-ea50-4a4d-ba3d-d06d334b0041",
   "metadata": {},
   "outputs": [],
   "source": []
  }
 ],
 "metadata": {
  "kernelspec": {
   "display_name": "Python 3 (ipykernel)",
   "language": "python",
   "name": "python3"
  },
  "language_info": {
   "codemirror_mode": {
    "name": "ipython",
    "version": 3
   },
   "file_extension": ".py",
   "mimetype": "text/x-python",
   "name": "python",
   "nbconvert_exporter": "python",
   "pygments_lexer": "ipython3",
   "version": "3.8.12"
  }
 },
 "nbformat": 4,
 "nbformat_minor": 5
}
